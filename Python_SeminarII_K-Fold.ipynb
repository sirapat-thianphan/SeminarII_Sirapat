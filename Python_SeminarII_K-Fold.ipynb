{
 "cells": [
  {
   "cell_type": "code",
   "execution_count": 3,
   "metadata": {},
   "outputs": [],
   "source": [
    "import tensorflow as tf\n",
    "from tensorflow import keras\n"
   ]
  },
  {
   "cell_type": "code",
   "execution_count": 4,
   "metadata": {},
   "outputs": [],
   "source": [
    "import numpy as np\n",
    "import pandas as pd\n",
    "import seaborn as sns\n",
    "import matplotlib.pyplot as plt\n",
    "%matplotlib inline"
   ]
  },
  {
   "cell_type": "code",
   "execution_count": 5,
   "metadata": {},
   "outputs": [],
   "source": [
    "url = 'https://raw.githubusercontent.com/sirapat-thianphan/SeminarII_Sirapat/master/events_bs2_2.csv'\n",
    "loaded_data = pd.read_csv(url, sep=',', header=0)"
   ]
  },
  {
   "cell_type": "code",
   "execution_count": 6,
   "metadata": {},
   "outputs": [
    {
     "data": {
      "text/html": [
       "<div>\n",
       "<style scoped>\n",
       "    .dataframe tbody tr th:only-of-type {\n",
       "        vertical-align: middle;\n",
       "    }\n",
       "\n",
       "    .dataframe tbody tr th {\n",
       "        vertical-align: top;\n",
       "    }\n",
       "\n",
       "    .dataframe thead th {\n",
       "        text-align: right;\n",
       "    }\n",
       "</style>\n",
       "<table border=\"1\" class=\"dataframe\">\n",
       "  <thead>\n",
       "    <tr style=\"text-align: right;\">\n",
       "      <th></th>\n",
       "      <th>tactic0_id</th>\n",
       "      <th>longitude</th>\n",
       "      <th>latitude</th>\n",
       "      <th>NEAR_CCTV_</th>\n",
       "      <th>NEAR_MOOBA</th>\n",
       "      <th>MOOBAN_EST</th>\n",
       "      <th>MOOBAN_LEV</th>\n",
       "      <th>NEAR_UNITS</th>\n",
       "      <th>UNIT_TYPE</th>\n",
       "      <th>NEAR_VEHIC</th>\n",
       "      <th>VEHICLES_T</th>\n",
       "      <th>NEAR_NAIS_</th>\n",
       "      <th>NAIS_TYPE</th>\n",
       "      <th>NEAR_DIST</th>\n",
       "    </tr>\n",
       "  </thead>\n",
       "  <tbody>\n",
       "    <tr>\n",
       "      <th>0</th>\n",
       "      <td>1</td>\n",
       "      <td>101.19182</td>\n",
       "      <td>6.13009</td>\n",
       "      <td>3467.485002</td>\n",
       "      <td>85.604275</td>\n",
       "      <td>0</td>\n",
       "      <td>0</td>\n",
       "      <td>927.963005</td>\n",
       "      <td>5</td>\n",
       "      <td>1308.145156</td>\n",
       "      <td>2</td>\n",
       "      <td>284.929088</td>\n",
       "      <td>3</td>\n",
       "      <td>27.677967</td>\n",
       "    </tr>\n",
       "    <tr>\n",
       "      <th>1</th>\n",
       "      <td>0</td>\n",
       "      <td>101.26577</td>\n",
       "      <td>6.41964</td>\n",
       "      <td>972.895329</td>\n",
       "      <td>1515.131446</td>\n",
       "      <td>0</td>\n",
       "      <td>0</td>\n",
       "      <td>1855.001821</td>\n",
       "      <td>4</td>\n",
       "      <td>2805.680397</td>\n",
       "      <td>2</td>\n",
       "      <td>1321.192664</td>\n",
       "      <td>1</td>\n",
       "      <td>1077.837387</td>\n",
       "    </tr>\n",
       "    <tr>\n",
       "      <th>2</th>\n",
       "      <td>1</td>\n",
       "      <td>101.14605</td>\n",
       "      <td>6.68195</td>\n",
       "      <td>4535.321847</td>\n",
       "      <td>372.279866</td>\n",
       "      <td>1</td>\n",
       "      <td>3</td>\n",
       "      <td>294.153727</td>\n",
       "      <td>7</td>\n",
       "      <td>212.795421</td>\n",
       "      <td>2</td>\n",
       "      <td>323.187802</td>\n",
       "      <td>10</td>\n",
       "      <td>97.315259</td>\n",
       "    </tr>\n",
       "    <tr>\n",
       "      <th>3</th>\n",
       "      <td>1</td>\n",
       "      <td>101.22266</td>\n",
       "      <td>6.85446</td>\n",
       "      <td>240.146910</td>\n",
       "      <td>333.135614</td>\n",
       "      <td>0</td>\n",
       "      <td>0</td>\n",
       "      <td>1591.508482</td>\n",
       "      <td>3</td>\n",
       "      <td>407.629181</td>\n",
       "      <td>1</td>\n",
       "      <td>155.356802</td>\n",
       "      <td>3</td>\n",
       "      <td>6.634046</td>\n",
       "    </tr>\n",
       "    <tr>\n",
       "      <th>4</th>\n",
       "      <td>0</td>\n",
       "      <td>101.34695</td>\n",
       "      <td>6.45786</td>\n",
       "      <td>242.448908</td>\n",
       "      <td>1172.773291</td>\n",
       "      <td>0</td>\n",
       "      <td>0</td>\n",
       "      <td>558.423389</td>\n",
       "      <td>5</td>\n",
       "      <td>701.641769</td>\n",
       "      <td>2</td>\n",
       "      <td>620.660475</td>\n",
       "      <td>5</td>\n",
       "      <td>31.915022</td>\n",
       "    </tr>\n",
       "    <tr>\n",
       "      <th>5</th>\n",
       "      <td>0</td>\n",
       "      <td>100.97757</td>\n",
       "      <td>6.65426</td>\n",
       "      <td>4096.016638</td>\n",
       "      <td>1315.821482</td>\n",
       "      <td>0</td>\n",
       "      <td>0</td>\n",
       "      <td>1716.603590</td>\n",
       "      <td>5</td>\n",
       "      <td>6956.354136</td>\n",
       "      <td>1</td>\n",
       "      <td>14218.082300</td>\n",
       "      <td>5</td>\n",
       "      <td>1124.033888</td>\n",
       "    </tr>\n",
       "    <tr>\n",
       "      <th>6</th>\n",
       "      <td>0</td>\n",
       "      <td>101.74995</td>\n",
       "      <td>6.27591</td>\n",
       "      <td>2686.242719</td>\n",
       "      <td>932.762119</td>\n",
       "      <td>1</td>\n",
       "      <td>3</td>\n",
       "      <td>1707.460629</td>\n",
       "      <td>4</td>\n",
       "      <td>3448.168296</td>\n",
       "      <td>2</td>\n",
       "      <td>69.781556</td>\n",
       "      <td>6</td>\n",
       "      <td>71.977883</td>\n",
       "    </tr>\n",
       "    <tr>\n",
       "      <th>7</th>\n",
       "      <td>0</td>\n",
       "      <td>101.62470</td>\n",
       "      <td>6.71488</td>\n",
       "      <td>580.185597</td>\n",
       "      <td>403.194092</td>\n",
       "      <td>0</td>\n",
       "      <td>0</td>\n",
       "      <td>567.060214</td>\n",
       "      <td>4</td>\n",
       "      <td>1545.663021</td>\n",
       "      <td>2</td>\n",
       "      <td>80.889155</td>\n",
       "      <td>4</td>\n",
       "      <td>35.425075</td>\n",
       "    </tr>\n",
       "    <tr>\n",
       "      <th>8</th>\n",
       "      <td>1</td>\n",
       "      <td>101.28660</td>\n",
       "      <td>6.72085</td>\n",
       "      <td>302.995168</td>\n",
       "      <td>143.336508</td>\n",
       "      <td>1</td>\n",
       "      <td>3</td>\n",
       "      <td>1104.123671</td>\n",
       "      <td>4</td>\n",
       "      <td>363.863675</td>\n",
       "      <td>2</td>\n",
       "      <td>1144.968962</td>\n",
       "      <td>3</td>\n",
       "      <td>25.827262</td>\n",
       "    </tr>\n",
       "    <tr>\n",
       "      <th>9</th>\n",
       "      <td>0</td>\n",
       "      <td>101.45094</td>\n",
       "      <td>6.49835</td>\n",
       "      <td>2562.292453</td>\n",
       "      <td>250.031476</td>\n",
       "      <td>0</td>\n",
       "      <td>0</td>\n",
       "      <td>3504.811321</td>\n",
       "      <td>4</td>\n",
       "      <td>7015.471466</td>\n",
       "      <td>2</td>\n",
       "      <td>2175.258547</td>\n",
       "      <td>6</td>\n",
       "      <td>14.428984</td>\n",
       "    </tr>\n",
       "  </tbody>\n",
       "</table>\n",
       "</div>"
      ],
      "text/plain": [
       "   tactic0_id  longitude  latitude   NEAR_CCTV_   NEAR_MOOBA  MOOBAN_EST  \\\n",
       "0           1  101.19182   6.13009  3467.485002    85.604275           0   \n",
       "1           0  101.26577   6.41964   972.895329  1515.131446           0   \n",
       "2           1  101.14605   6.68195  4535.321847   372.279866           1   \n",
       "3           1  101.22266   6.85446   240.146910   333.135614           0   \n",
       "4           0  101.34695   6.45786   242.448908  1172.773291           0   \n",
       "5           0  100.97757   6.65426  4096.016638  1315.821482           0   \n",
       "6           0  101.74995   6.27591  2686.242719   932.762119           1   \n",
       "7           0  101.62470   6.71488   580.185597   403.194092           0   \n",
       "8           1  101.28660   6.72085   302.995168   143.336508           1   \n",
       "9           0  101.45094   6.49835  2562.292453   250.031476           0   \n",
       "\n",
       "   MOOBAN_LEV   NEAR_UNITS  UNIT_TYPE   NEAR_VEHIC  VEHICLES_T    NEAR_NAIS_  \\\n",
       "0           0   927.963005          5  1308.145156           2    284.929088   \n",
       "1           0  1855.001821          4  2805.680397           2   1321.192664   \n",
       "2           3   294.153727          7   212.795421           2    323.187802   \n",
       "3           0  1591.508482          3   407.629181           1    155.356802   \n",
       "4           0   558.423389          5   701.641769           2    620.660475   \n",
       "5           0  1716.603590          5  6956.354136           1  14218.082300   \n",
       "6           3  1707.460629          4  3448.168296           2     69.781556   \n",
       "7           0   567.060214          4  1545.663021           2     80.889155   \n",
       "8           3  1104.123671          4   363.863675           2   1144.968962   \n",
       "9           0  3504.811321          4  7015.471466           2   2175.258547   \n",
       "\n",
       "   NAIS_TYPE    NEAR_DIST  \n",
       "0          3    27.677967  \n",
       "1          1  1077.837387  \n",
       "2         10    97.315259  \n",
       "3          3     6.634046  \n",
       "4          5    31.915022  \n",
       "5          5  1124.033888  \n",
       "6          6    71.977883  \n",
       "7          4    35.425075  \n",
       "8          3    25.827262  \n",
       "9          6    14.428984  "
      ]
     },
     "execution_count": 6,
     "metadata": {},
     "output_type": "execute_result"
    }
   ],
   "source": [
    "loaded_data.head(10)"
   ]
  },
  {
   "cell_type": "code",
   "execution_count": 7,
   "metadata": {},
   "outputs": [],
   "source": [
    "X = loaded_data.iloc[:,1:]\n",
    "y = loaded_data.iloc[:,0]"
   ]
  },
  {
   "cell_type": "code",
   "execution_count": 8,
   "metadata": {},
   "outputs": [
    {
     "data": {
      "text/html": [
       "<div>\n",
       "<style scoped>\n",
       "    .dataframe tbody tr th:only-of-type {\n",
       "        vertical-align: middle;\n",
       "    }\n",
       "\n",
       "    .dataframe tbody tr th {\n",
       "        vertical-align: top;\n",
       "    }\n",
       "\n",
       "    .dataframe thead th {\n",
       "        text-align: right;\n",
       "    }\n",
       "</style>\n",
       "<table border=\"1\" class=\"dataframe\">\n",
       "  <thead>\n",
       "    <tr style=\"text-align: right;\">\n",
       "      <th></th>\n",
       "      <th>longitude</th>\n",
       "      <th>latitude</th>\n",
       "      <th>NEAR_CCTV_</th>\n",
       "      <th>NEAR_MOOBA</th>\n",
       "      <th>MOOBAN_EST</th>\n",
       "      <th>MOOBAN_LEV</th>\n",
       "      <th>NEAR_UNITS</th>\n",
       "      <th>UNIT_TYPE</th>\n",
       "      <th>NEAR_VEHIC</th>\n",
       "      <th>VEHICLES_T</th>\n",
       "      <th>NEAR_NAIS_</th>\n",
       "      <th>NAIS_TYPE</th>\n",
       "      <th>NEAR_DIST</th>\n",
       "    </tr>\n",
       "  </thead>\n",
       "  <tbody>\n",
       "    <tr>\n",
       "      <th>0</th>\n",
       "      <td>101.19182</td>\n",
       "      <td>6.13009</td>\n",
       "      <td>3467.485002</td>\n",
       "      <td>85.604275</td>\n",
       "      <td>0</td>\n",
       "      <td>0</td>\n",
       "      <td>927.963005</td>\n",
       "      <td>5</td>\n",
       "      <td>1308.145156</td>\n",
       "      <td>2</td>\n",
       "      <td>284.929088</td>\n",
       "      <td>3</td>\n",
       "      <td>27.677967</td>\n",
       "    </tr>\n",
       "    <tr>\n",
       "      <th>1</th>\n",
       "      <td>101.26577</td>\n",
       "      <td>6.41964</td>\n",
       "      <td>972.895329</td>\n",
       "      <td>1515.131446</td>\n",
       "      <td>0</td>\n",
       "      <td>0</td>\n",
       "      <td>1855.001821</td>\n",
       "      <td>4</td>\n",
       "      <td>2805.680397</td>\n",
       "      <td>2</td>\n",
       "      <td>1321.192664</td>\n",
       "      <td>1</td>\n",
       "      <td>1077.837387</td>\n",
       "    </tr>\n",
       "    <tr>\n",
       "      <th>2</th>\n",
       "      <td>101.14605</td>\n",
       "      <td>6.68195</td>\n",
       "      <td>4535.321847</td>\n",
       "      <td>372.279866</td>\n",
       "      <td>1</td>\n",
       "      <td>3</td>\n",
       "      <td>294.153727</td>\n",
       "      <td>7</td>\n",
       "      <td>212.795421</td>\n",
       "      <td>2</td>\n",
       "      <td>323.187802</td>\n",
       "      <td>10</td>\n",
       "      <td>97.315259</td>\n",
       "    </tr>\n",
       "    <tr>\n",
       "      <th>3</th>\n",
       "      <td>101.22266</td>\n",
       "      <td>6.85446</td>\n",
       "      <td>240.146910</td>\n",
       "      <td>333.135614</td>\n",
       "      <td>0</td>\n",
       "      <td>0</td>\n",
       "      <td>1591.508482</td>\n",
       "      <td>3</td>\n",
       "      <td>407.629181</td>\n",
       "      <td>1</td>\n",
       "      <td>155.356802</td>\n",
       "      <td>3</td>\n",
       "      <td>6.634046</td>\n",
       "    </tr>\n",
       "    <tr>\n",
       "      <th>4</th>\n",
       "      <td>101.34695</td>\n",
       "      <td>6.45786</td>\n",
       "      <td>242.448908</td>\n",
       "      <td>1172.773291</td>\n",
       "      <td>0</td>\n",
       "      <td>0</td>\n",
       "      <td>558.423389</td>\n",
       "      <td>5</td>\n",
       "      <td>701.641769</td>\n",
       "      <td>2</td>\n",
       "      <td>620.660475</td>\n",
       "      <td>5</td>\n",
       "      <td>31.915022</td>\n",
       "    </tr>\n",
       "  </tbody>\n",
       "</table>\n",
       "</div>"
      ],
      "text/plain": [
       "   longitude  latitude   NEAR_CCTV_   NEAR_MOOBA  MOOBAN_EST  MOOBAN_LEV  \\\n",
       "0  101.19182   6.13009  3467.485002    85.604275           0           0   \n",
       "1  101.26577   6.41964   972.895329  1515.131446           0           0   \n",
       "2  101.14605   6.68195  4535.321847   372.279866           1           3   \n",
       "3  101.22266   6.85446   240.146910   333.135614           0           0   \n",
       "4  101.34695   6.45786   242.448908  1172.773291           0           0   \n",
       "\n",
       "    NEAR_UNITS  UNIT_TYPE   NEAR_VEHIC  VEHICLES_T   NEAR_NAIS_  NAIS_TYPE  \\\n",
       "0   927.963005          5  1308.145156           2   284.929088          3   \n",
       "1  1855.001821          4  2805.680397           2  1321.192664          1   \n",
       "2   294.153727          7   212.795421           2   323.187802         10   \n",
       "3  1591.508482          3   407.629181           1   155.356802          3   \n",
       "4   558.423389          5   701.641769           2   620.660475          5   \n",
       "\n",
       "     NEAR_DIST  \n",
       "0    27.677967  \n",
       "1  1077.837387  \n",
       "2    97.315259  \n",
       "3     6.634046  \n",
       "4    31.915022  "
      ]
     },
     "execution_count": 8,
     "metadata": {},
     "output_type": "execute_result"
    }
   ],
   "source": [
    "X.head(5)"
   ]
  },
  {
   "cell_type": "code",
   "execution_count": 9,
   "metadata": {},
   "outputs": [
    {
     "name": "stderr",
     "output_type": "stream",
     "text": [
      "/Users/kratung/anaconda3/envs/tfdeeplearning/lib/python3.5/site-packages/sklearn/preprocessing/data.py:617: DataConversionWarning: Data with input dtype int64, float64 were all converted to float64 by StandardScaler.\n",
      "  return self.partial_fit(X, y)\n",
      "/Users/kratung/anaconda3/envs/tfdeeplearning/lib/python3.5/site-packages/sklearn/base.py:462: DataConversionWarning: Data with input dtype int64, float64 were all converted to float64 by StandardScaler.\n",
      "  return self.fit(X, **fit_params).transform(X)\n"
     ]
    }
   ],
   "source": [
    "#standardizing the input feature\n",
    "from sklearn.preprocessing import StandardScaler\n",
    "sc = StandardScaler()\n",
    "X = sc.fit_transform(X)"
   ]
  },
  {
   "cell_type": "code",
   "execution_count": 10,
   "metadata": {},
   "outputs": [],
   "source": [
    "from sklearn.model_selection import train_test_split"
   ]
  },
  {
   "cell_type": "code",
   "execution_count": 11,
   "metadata": {},
   "outputs": [],
   "source": [
    "X_train, X_test, y_train, y_test = train_test_split(X, y, test_size=0.2)"
   ]
  },
  {
   "cell_type": "code",
   "execution_count": 12,
   "metadata": {},
   "outputs": [
    {
     "data": {
      "text/plain": [
       "(6400, 13)"
      ]
     },
     "execution_count": 12,
     "metadata": {},
     "output_type": "execute_result"
    }
   ],
   "source": [
    "X_train.shape"
   ]
  },
  {
   "cell_type": "code",
   "execution_count": 11,
   "metadata": {},
   "outputs": [
    {
     "name": "stderr",
     "output_type": "stream",
     "text": [
      "Using TensorFlow backend.\n"
     ]
    }
   ],
   "source": [
    "from keras import models\n",
    "from keras import layers\n",
    "from keras import regularizers"
   ]
  },
  {
   "cell_type": "code",
   "execution_count": 12,
   "metadata": {},
   "outputs": [],
   "source": [
    "def build_model():\n",
    "    model = models.Sequential()\n",
    "    model.add(layers.Dense(16, kernel_regularizer=regularizers.l2(0.001), activation='relu', input_dim=13))\n",
    "    model.add(layers.Dense(32, kernel_regularizer=regularizers.l2(0.001), activation='relu'))\n",
    "    model.add(layers.Dense(32, kernel_regularizer=regularizers.l2(0.001), activation='relu'))\n",
    "    model.add(layers.Dense(32, kernel_regularizer=regularizers.l2(0.001), activation='relu'))\n",
    "    model.add(layers.Dense(1, activation='sigmoid'))\n",
    "    model.compile(optimizer ='rmsprop', loss='binary_crossentropy', metrics =['accuracy'])\n",
    "    return model"
   ]
  },
  {
   "cell_type": "code",
   "execution_count": 13,
   "metadata": {},
   "outputs": [
    {
     "name": "stdout",
     "output_type": "stream",
     "text": [
      "processing fold # 0\n",
      "processing fold # 1\n",
      "processing fold # 2\n",
      "processing fold # 3\n"
     ]
    }
   ],
   "source": [
    "# K-Fold Validation\n",
    "\n",
    "k=4\n",
    "num_val_samples = len(X_train) // k \n",
    "num_epochs = 200\n",
    "all_loss_histories = []\n",
    "all_acc_histories = []\n",
    "\n",
    "for i in range(k):\n",
    "    print('processing fold #', i)\n",
    "    val_data = X_train[i * num_val_samples: (i + 1) * num_val_samples]\n",
    "    val_targets = y_train[i * num_val_samples: (i + 1) * num_val_samples]\n",
    "\n",
    "    partial_train_data = np.concatenate( [X_train[:i * num_val_samples], X_train[(i + 1) * num_val_samples:]], axis=0)\n",
    "    partial_train_targets = np.concatenate( [y_train[:i * num_val_samples], y_train[(i + 1) * num_val_samples:]], axis=0)\n",
    "\n",
    "    model = build_model()\n",
    "    history = model.fit(partial_train_data, partial_train_targets, validation_data=(val_data, val_targets), epochs = num_epochs, batch_size=16, verbose=0)\n",
    "    loss_history = history.history['val_loss']\n",
    "    acc_history = history.history['val_acc']\n",
    "    all_loss_histories.append(loss_history)\n",
    "    all_acc_histories.append(acc_history)\n",
    "    \n",
    "    # val_loss, val_acc = model.evaluate(val_data, val_targets, verbose=0)\n",
    "    # all_acc_histories.append(acc_history)"
   ]
  },
  {
   "cell_type": "code",
   "execution_count": 17,
   "metadata": {},
   "outputs": [],
   "source": [
    "# Average of the per-epoch acc for all folds\n",
    "average_loss_history = [ np.mean( [x[i] for x in all_loss_histories]) for i in range(num_epochs)]\n",
    "average_acc_history = [ np.mean( [x[i] for x in all_acc_histories]) for i in range(num_epochs)]\n"
   ]
  },
  {
   "cell_type": "code",
   "execution_count": 18,
   "metadata": {},
   "outputs": [
    {
     "data": {
      "text/plain": [
       "200"
      ]
     },
     "execution_count": 18,
     "metadata": {},
     "output_type": "execute_result"
    }
   ],
   "source": [
    "len(average_loss_history)"
   ]
  },
  {
   "cell_type": "code",
   "execution_count": 20,
   "metadata": {},
   "outputs": [
    {
     "data": {
      "text/plain": [
       "0.6843212828043849"
      ]
     },
     "execution_count": 20,
     "metadata": {},
     "output_type": "execute_result"
    }
   ],
   "source": [
    "# Average of loss\n",
    "np.mean(average_loss_history)"
   ]
  },
  {
   "cell_type": "code",
   "execution_count": 21,
   "metadata": {},
   "outputs": [
    {
     "data": {
      "text/plain": [
       "0.62655390625"
      ]
     },
     "execution_count": 21,
     "metadata": {},
     "output_type": "execute_result"
    }
   ],
   "source": [
    "# Average of acc\n",
    "np.mean(average_acc_history)"
   ]
  },
  {
   "cell_type": "code",
   "execution_count": 22,
   "metadata": {},
   "outputs": [
    {
     "data": {
      "image/png": "[encoded data removed]",
      "text/plain": [
       "<Figure size 432x288 with 1 Axes>"
      ]
     },
     "metadata": {
      "needs_background": "light"
     },
     "output_type": "display_data"
    }
   ],
   "source": [
    "import matplotlib.pyplot as plt\n",
    "\n",
    "plt.plot(range(1, len(average_loss_history) +1), average_loss_history)\n",
    "plt.xlabel('Epochs')\n",
    "plt.ylabel('Validation Loss')\n",
    "plt.show()"
   ]
  },
  {
   "cell_type": "code",
   "execution_count": 23,
   "metadata": {},
   "outputs": [
    {
     "data": {
      "image/png": "[encoded data removed]",
      "text/plain": [
       "<Figure size 432x288 with 1 Axes>"
      ]
     },
     "metadata": {
      "needs_background": "light"
     },
     "output_type": "display_data"
    }
   ],
   "source": [
    "def smooth_curve(points, factor=0.9):\n",
    "    smoothed_points = []\n",
    "    for point in points:\n",
    "        if smoothed_points:\n",
    "            previous = smoothed_points[-1]\n",
    "            smoothed_points.append(previous*factor + point*(1-factor))\n",
    "        else:\n",
    "            smoothed_points.append(point)\n",
    "    return smoothed_points\n",
    "\n",
    "smooth_loss_history = smooth_curve(average_loss_history[10:])\n",
    "\n",
    "plt.plot(range(1, len(smooth_loss_history)+1), smooth_loss_history)\n",
    "plt.xlabel('Epochs')\n",
    "plt.ylabel('Validation LOSS')\n",
    "plt.show()"
   ]
  },
  {
   "cell_type": "code",
   "execution_count": 27,
   "metadata": {},
   "outputs": [
    {
     "name": "stdout",
     "output_type": "stream",
     "text": [
      "1600/1600 [==============================] - 0s 184us/step\n"
     ]
    }
   ],
   "source": [
    "model = build_model()\n",
    "model.fit(X_train, y_train, epochs=25, batch_size=32, verbose=0)\n",
    "test_loss_score, test_acc_score = model.evaluate(X_test, y_test)"
   ]
  },
  {
   "cell_type": "code",
   "execution_count": 28,
   "metadata": {},
   "outputs": [
    {
     "name": "stdout",
     "output_type": "stream",
     "text": [
      "0.66\n"
     ]
    }
   ],
   "source": [
    "print(test_acc_score)"
   ]
  },
  {
   "cell_type": "code",
   "execution_count": 29,
   "metadata": {},
   "outputs": [
    {
     "name": "stdout",
     "output_type": "stream",
     "text": [
      "0.6429630744457245\n"
     ]
    }
   ],
   "source": [
    "print(test_loss_score)"
   ]
  },
  {
   "cell_type": "code",
   "execution_count": null,
   "metadata": {},
   "outputs": [],
   "source": []
  }
 ],
 "metadata": {
  "kernelspec": {
   "display_name": "Python 3",
   "language": "python",
   "name": "python3"
  },
  "language_info": {
   "codemirror_mode": {
    "name": "ipython",
    "version": 3
   },
   "file_extension": ".py",
   "mimetype": "text/x-python",
   "name": "python",
   "nbconvert_exporter": "python",
   "pygments_lexer": "ipython3",
   "version": "3.5.6"
  }
 },
 "nbformat": 4,
 "nbformat_minor": 2
}
