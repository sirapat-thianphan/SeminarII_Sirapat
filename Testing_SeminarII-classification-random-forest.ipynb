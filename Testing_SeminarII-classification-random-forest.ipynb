{
 "cells": [
  {
   "cell_type": "markdown",
   "metadata": {},
   "source": [
    "## 1. Import libraries"
   ]
  },
  {
   "cell_type": "code",
   "execution_count": 1,
   "metadata": {},
   "outputs": [],
   "source": [
    "from sklearn import datasets\n",
    "from sklearn.model_selection import train_test_split\n",
    "from sklearn.ensemble import RandomForestClassifier\n",
    "from sklearn.datasets import make_classification\n",
    "import numpy as np\n",
    "import pandas as pd"
   ]
  },
  {
   "cell_type": "markdown",
   "metadata": {},
   "source": [
    "## 2. Load the *Research* data set"
   ]
  },
  {
   "cell_type": "code",
   "execution_count": 2,
   "metadata": {},
   "outputs": [],
   "source": [
    "loaded_data = pd.read_csv('events_bs2_2.csv', sep=',', header=0)"
   ]
  },
  {
   "cell_type": "code",
   "execution_count": 3,
   "metadata": {},
   "outputs": [
    {
     "data": {
      "text/html": [
       "<div>\n",
       "<style scoped>\n",
       "    .dataframe tbody tr th:only-of-type {\n",
       "        vertical-align: middle;\n",
       "    }\n",
       "\n",
       "    .dataframe tbody tr th {\n",
       "        vertical-align: top;\n",
       "    }\n",
       "\n",
       "    .dataframe thead th {\n",
       "        text-align: right;\n",
       "    }\n",
       "</style>\n",
       "<table border=\"1\" class=\"dataframe\">\n",
       "  <thead>\n",
       "    <tr style=\"text-align: right;\">\n",
       "      <th></th>\n",
       "      <th>tactic0_id</th>\n",
       "      <th>longitude</th>\n",
       "      <th>latitude</th>\n",
       "      <th>NEAR_CCTV_</th>\n",
       "      <th>NEAR_MOOBA</th>\n",
       "      <th>MOOBAN_EST</th>\n",
       "      <th>MOOBAN_LEV</th>\n",
       "      <th>NEAR_UNITS</th>\n",
       "      <th>UNIT_TYPE</th>\n",
       "      <th>NEAR_VEHIC</th>\n",
       "      <th>VEHICLES_T</th>\n",
       "      <th>NEAR_NAIS_</th>\n",
       "      <th>NAIS_TYPE</th>\n",
       "      <th>NEAR_DIST</th>\n",
       "    </tr>\n",
       "  </thead>\n",
       "  <tbody>\n",
       "    <tr>\n",
       "      <th>0</th>\n",
       "      <td>1</td>\n",
       "      <td>101.19182</td>\n",
       "      <td>6.13009</td>\n",
       "      <td>3467.485002</td>\n",
       "      <td>85.604275</td>\n",
       "      <td>0</td>\n",
       "      <td>0</td>\n",
       "      <td>927.963005</td>\n",
       "      <td>5</td>\n",
       "      <td>1308.145156</td>\n",
       "      <td>2</td>\n",
       "      <td>284.929088</td>\n",
       "      <td>3</td>\n",
       "      <td>27.677967</td>\n",
       "    </tr>\n",
       "    <tr>\n",
       "      <th>1</th>\n",
       "      <td>0</td>\n",
       "      <td>101.26577</td>\n",
       "      <td>6.41964</td>\n",
       "      <td>972.895329</td>\n",
       "      <td>1515.131446</td>\n",
       "      <td>0</td>\n",
       "      <td>0</td>\n",
       "      <td>1855.001821</td>\n",
       "      <td>4</td>\n",
       "      <td>2805.680397</td>\n",
       "      <td>2</td>\n",
       "      <td>1321.192664</td>\n",
       "      <td>1</td>\n",
       "      <td>1077.837387</td>\n",
       "    </tr>\n",
       "    <tr>\n",
       "      <th>2</th>\n",
       "      <td>1</td>\n",
       "      <td>101.14605</td>\n",
       "      <td>6.68195</td>\n",
       "      <td>4535.321847</td>\n",
       "      <td>372.279866</td>\n",
       "      <td>1</td>\n",
       "      <td>3</td>\n",
       "      <td>294.153727</td>\n",
       "      <td>7</td>\n",
       "      <td>212.795421</td>\n",
       "      <td>2</td>\n",
       "      <td>323.187802</td>\n",
       "      <td>10</td>\n",
       "      <td>97.315259</td>\n",
       "    </tr>\n",
       "    <tr>\n",
       "      <th>3</th>\n",
       "      <td>1</td>\n",
       "      <td>101.22266</td>\n",
       "      <td>6.85446</td>\n",
       "      <td>240.146910</td>\n",
       "      <td>333.135614</td>\n",
       "      <td>0</td>\n",
       "      <td>0</td>\n",
       "      <td>1591.508482</td>\n",
       "      <td>3</td>\n",
       "      <td>407.629181</td>\n",
       "      <td>1</td>\n",
       "      <td>155.356802</td>\n",
       "      <td>3</td>\n",
       "      <td>6.634046</td>\n",
       "    </tr>\n",
       "    <tr>\n",
       "      <th>4</th>\n",
       "      <td>0</td>\n",
       "      <td>101.34695</td>\n",
       "      <td>6.45786</td>\n",
       "      <td>242.448908</td>\n",
       "      <td>1172.773291</td>\n",
       "      <td>0</td>\n",
       "      <td>0</td>\n",
       "      <td>558.423389</td>\n",
       "      <td>5</td>\n",
       "      <td>701.641769</td>\n",
       "      <td>2</td>\n",
       "      <td>620.660475</td>\n",
       "      <td>5</td>\n",
       "      <td>31.915022</td>\n",
       "    </tr>\n",
       "    <tr>\n",
       "      <th>5</th>\n",
       "      <td>0</td>\n",
       "      <td>100.97757</td>\n",
       "      <td>6.65426</td>\n",
       "      <td>4096.016638</td>\n",
       "      <td>1315.821482</td>\n",
       "      <td>0</td>\n",
       "      <td>0</td>\n",
       "      <td>1716.603590</td>\n",
       "      <td>5</td>\n",
       "      <td>6956.354136</td>\n",
       "      <td>1</td>\n",
       "      <td>14218.082300</td>\n",
       "      <td>5</td>\n",
       "      <td>1124.033888</td>\n",
       "    </tr>\n",
       "    <tr>\n",
       "      <th>6</th>\n",
       "      <td>0</td>\n",
       "      <td>101.74995</td>\n",
       "      <td>6.27591</td>\n",
       "      <td>2686.242719</td>\n",
       "      <td>932.762119</td>\n",
       "      <td>1</td>\n",
       "      <td>3</td>\n",
       "      <td>1707.460629</td>\n",
       "      <td>4</td>\n",
       "      <td>3448.168296</td>\n",
       "      <td>2</td>\n",
       "      <td>69.781556</td>\n",
       "      <td>6</td>\n",
       "      <td>71.977883</td>\n",
       "    </tr>\n",
       "    <tr>\n",
       "      <th>7</th>\n",
       "      <td>0</td>\n",
       "      <td>101.62470</td>\n",
       "      <td>6.71488</td>\n",
       "      <td>580.185597</td>\n",
       "      <td>403.194092</td>\n",
       "      <td>0</td>\n",
       "      <td>0</td>\n",
       "      <td>567.060214</td>\n",
       "      <td>4</td>\n",
       "      <td>1545.663021</td>\n",
       "      <td>2</td>\n",
       "      <td>80.889155</td>\n",
       "      <td>4</td>\n",
       "      <td>35.425075</td>\n",
       "    </tr>\n",
       "    <tr>\n",
       "      <th>8</th>\n",
       "      <td>1</td>\n",
       "      <td>101.28660</td>\n",
       "      <td>6.72085</td>\n",
       "      <td>302.995168</td>\n",
       "      <td>143.336508</td>\n",
       "      <td>1</td>\n",
       "      <td>3</td>\n",
       "      <td>1104.123671</td>\n",
       "      <td>4</td>\n",
       "      <td>363.863675</td>\n",
       "      <td>2</td>\n",
       "      <td>1144.968962</td>\n",
       "      <td>3</td>\n",
       "      <td>25.827262</td>\n",
       "    </tr>\n",
       "    <tr>\n",
       "      <th>9</th>\n",
       "      <td>0</td>\n",
       "      <td>101.45094</td>\n",
       "      <td>6.49835</td>\n",
       "      <td>2562.292453</td>\n",
       "      <td>250.031476</td>\n",
       "      <td>0</td>\n",
       "      <td>0</td>\n",
       "      <td>3504.811321</td>\n",
       "      <td>4</td>\n",
       "      <td>7015.471466</td>\n",
       "      <td>2</td>\n",
       "      <td>2175.258547</td>\n",
       "      <td>6</td>\n",
       "      <td>14.428984</td>\n",
       "    </tr>\n",
       "  </tbody>\n",
       "</table>\n",
       "</div>"
      ],
      "text/plain": [
       "   tactic0_id  longitude  latitude   NEAR_CCTV_   NEAR_MOOBA  MOOBAN_EST  \\\n",
       "0           1  101.19182   6.13009  3467.485002    85.604275           0   \n",
       "1           0  101.26577   6.41964   972.895329  1515.131446           0   \n",
       "2           1  101.14605   6.68195  4535.321847   372.279866           1   \n",
       "3           1  101.22266   6.85446   240.146910   333.135614           0   \n",
       "4           0  101.34695   6.45786   242.448908  1172.773291           0   \n",
       "5           0  100.97757   6.65426  4096.016638  1315.821482           0   \n",
       "6           0  101.74995   6.27591  2686.242719   932.762119           1   \n",
       "7           0  101.62470   6.71488   580.185597   403.194092           0   \n",
       "8           1  101.28660   6.72085   302.995168   143.336508           1   \n",
       "9           0  101.45094   6.49835  2562.292453   250.031476           0   \n",
       "\n",
       "   MOOBAN_LEV   NEAR_UNITS  UNIT_TYPE   NEAR_VEHIC  VEHICLES_T    NEAR_NAIS_  \\\n",
       "0           0   927.963005          5  1308.145156           2    284.929088   \n",
       "1           0  1855.001821          4  2805.680397           2   1321.192664   \n",
       "2           3   294.153727          7   212.795421           2    323.187802   \n",
       "3           0  1591.508482          3   407.629181           1    155.356802   \n",
       "4           0   558.423389          5   701.641769           2    620.660475   \n",
       "5           0  1716.603590          5  6956.354136           1  14218.082300   \n",
       "6           3  1707.460629          4  3448.168296           2     69.781556   \n",
       "7           0   567.060214          4  1545.663021           2     80.889155   \n",
       "8           3  1104.123671          4   363.863675           2   1144.968962   \n",
       "9           0  3504.811321          4  7015.471466           2   2175.258547   \n",
       "\n",
       "   NAIS_TYPE    NEAR_DIST  \n",
       "0          3    27.677967  \n",
       "1          1  1077.837387  \n",
       "2         10    97.315259  \n",
       "3          3     6.634046  \n",
       "4          5    31.915022  \n",
       "5          5  1124.033888  \n",
       "6          6    71.977883  \n",
       "7          4    35.425075  \n",
       "8          3    25.827262  \n",
       "9          6    14.428984  "
      ]
     },
     "execution_count": 3,
     "metadata": {},
     "output_type": "execute_result"
    }
   ],
   "source": [
    "loaded_data.head(10)"
   ]
  },
  {
   "cell_type": "code",
   "execution_count": 4,
   "metadata": {},
   "outputs": [],
   "source": [
    "X = loaded_data.iloc[:,1:]\n",
    "y = loaded_data.iloc[:,0]"
   ]
  },
  {
   "cell_type": "code",
   "execution_count": 5,
   "metadata": {},
   "outputs": [
    {
     "data": {
      "text/html": [
       "<div>\n",
       "<style scoped>\n",
       "    .dataframe tbody tr th:only-of-type {\n",
       "        vertical-align: middle;\n",
       "    }\n",
       "\n",
       "    .dataframe tbody tr th {\n",
       "        vertical-align: top;\n",
       "    }\n",
       "\n",
       "    .dataframe thead th {\n",
       "        text-align: right;\n",
       "    }\n",
       "</style>\n",
       "<table border=\"1\" class=\"dataframe\">\n",
       "  <thead>\n",
       "    <tr style=\"text-align: right;\">\n",
       "      <th></th>\n",
       "      <th>longitude</th>\n",
       "      <th>latitude</th>\n",
       "      <th>NEAR_CCTV_</th>\n",
       "      <th>NEAR_MOOBA</th>\n",
       "      <th>MOOBAN_EST</th>\n",
       "      <th>MOOBAN_LEV</th>\n",
       "      <th>NEAR_UNITS</th>\n",
       "      <th>UNIT_TYPE</th>\n",
       "      <th>NEAR_VEHIC</th>\n",
       "      <th>VEHICLES_T</th>\n",
       "      <th>NEAR_NAIS_</th>\n",
       "      <th>NAIS_TYPE</th>\n",
       "      <th>NEAR_DIST</th>\n",
       "    </tr>\n",
       "  </thead>\n",
       "  <tbody>\n",
       "    <tr>\n",
       "      <th>0</th>\n",
       "      <td>101.19182</td>\n",
       "      <td>6.13009</td>\n",
       "      <td>3467.485002</td>\n",
       "      <td>85.604275</td>\n",
       "      <td>0</td>\n",
       "      <td>0</td>\n",
       "      <td>927.963005</td>\n",
       "      <td>5</td>\n",
       "      <td>1308.145156</td>\n",
       "      <td>2</td>\n",
       "      <td>284.929088</td>\n",
       "      <td>3</td>\n",
       "      <td>27.677967</td>\n",
       "    </tr>\n",
       "    <tr>\n",
       "      <th>1</th>\n",
       "      <td>101.26577</td>\n",
       "      <td>6.41964</td>\n",
       "      <td>972.895329</td>\n",
       "      <td>1515.131446</td>\n",
       "      <td>0</td>\n",
       "      <td>0</td>\n",
       "      <td>1855.001821</td>\n",
       "      <td>4</td>\n",
       "      <td>2805.680397</td>\n",
       "      <td>2</td>\n",
       "      <td>1321.192664</td>\n",
       "      <td>1</td>\n",
       "      <td>1077.837387</td>\n",
       "    </tr>\n",
       "    <tr>\n",
       "      <th>2</th>\n",
       "      <td>101.14605</td>\n",
       "      <td>6.68195</td>\n",
       "      <td>4535.321847</td>\n",
       "      <td>372.279866</td>\n",
       "      <td>1</td>\n",
       "      <td>3</td>\n",
       "      <td>294.153727</td>\n",
       "      <td>7</td>\n",
       "      <td>212.795421</td>\n",
       "      <td>2</td>\n",
       "      <td>323.187802</td>\n",
       "      <td>10</td>\n",
       "      <td>97.315259</td>\n",
       "    </tr>\n",
       "    <tr>\n",
       "      <th>3</th>\n",
       "      <td>101.22266</td>\n",
       "      <td>6.85446</td>\n",
       "      <td>240.146910</td>\n",
       "      <td>333.135614</td>\n",
       "      <td>0</td>\n",
       "      <td>0</td>\n",
       "      <td>1591.508482</td>\n",
       "      <td>3</td>\n",
       "      <td>407.629181</td>\n",
       "      <td>1</td>\n",
       "      <td>155.356802</td>\n",
       "      <td>3</td>\n",
       "      <td>6.634046</td>\n",
       "    </tr>\n",
       "    <tr>\n",
       "      <th>4</th>\n",
       "      <td>101.34695</td>\n",
       "      <td>6.45786</td>\n",
       "      <td>242.448908</td>\n",
       "      <td>1172.773291</td>\n",
       "      <td>0</td>\n",
       "      <td>0</td>\n",
       "      <td>558.423389</td>\n",
       "      <td>5</td>\n",
       "      <td>701.641769</td>\n",
       "      <td>2</td>\n",
       "      <td>620.660475</td>\n",
       "      <td>5</td>\n",
       "      <td>31.915022</td>\n",
       "    </tr>\n",
       "  </tbody>\n",
       "</table>\n",
       "</div>"
      ],
      "text/plain": [
       "   longitude  latitude   NEAR_CCTV_   NEAR_MOOBA  MOOBAN_EST  MOOBAN_LEV  \\\n",
       "0  101.19182   6.13009  3467.485002    85.604275           0           0   \n",
       "1  101.26577   6.41964   972.895329  1515.131446           0           0   \n",
       "2  101.14605   6.68195  4535.321847   372.279866           1           3   \n",
       "3  101.22266   6.85446   240.146910   333.135614           0           0   \n",
       "4  101.34695   6.45786   242.448908  1172.773291           0           0   \n",
       "\n",
       "    NEAR_UNITS  UNIT_TYPE   NEAR_VEHIC  VEHICLES_T   NEAR_NAIS_  NAIS_TYPE  \\\n",
       "0   927.963005          5  1308.145156           2   284.929088          3   \n",
       "1  1855.001821          4  2805.680397           2  1321.192664          1   \n",
       "2   294.153727          7   212.795421           2   323.187802         10   \n",
       "3  1591.508482          3   407.629181           1   155.356802          3   \n",
       "4   558.423389          5   701.641769           2   620.660475          5   \n",
       "\n",
       "     NEAR_DIST  \n",
       "0    27.677967  \n",
       "1  1077.837387  \n",
       "2    97.315259  \n",
       "3     6.634046  \n",
       "4    31.915022  "
      ]
     },
     "execution_count": 5,
     "metadata": {},
     "output_type": "execute_result"
    }
   ],
   "source": [
    "X.head(5)"
   ]
  },
  {
   "cell_type": "markdown",
   "metadata": {},
   "source": [
    "## 3. Input features\n",
    "The ***iris*** data set contains 4 input features and 1 output variable (the class label)."
   ]
  },
  {
   "cell_type": "markdown",
   "metadata": {},
   "source": [
    "### 3.1. Input features"
   ]
  },
  {
   "cell_type": "code",
   "execution_count": 6,
   "metadata": {
    "scrolled": true
   },
   "outputs": [
    {
     "name": "stdout",
     "output_type": "stream",
     "text": [
      "   longitude  latitude   NEAR_CCTV_   NEAR_MOOBA  MOOBAN_EST  MOOBAN_LEV  \\\n",
      "0  101.19182   6.13009  3467.485002    85.604275           0           0   \n",
      "1  101.26577   6.41964   972.895329  1515.131446           0           0   \n",
      "2  101.14605   6.68195  4535.321847   372.279866           1           3   \n",
      "3  101.22266   6.85446   240.146910   333.135614           0           0   \n",
      "4  101.34695   6.45786   242.448908  1172.773291           0           0   \n",
      "\n",
      "    NEAR_UNITS  UNIT_TYPE   NEAR_VEHIC  VEHICLES_T   NEAR_NAIS_  NAIS_TYPE  \\\n",
      "0   927.963005          5  1308.145156           2   284.929088          3   \n",
      "1  1855.001821          4  2805.680397           2  1321.192664          1   \n",
      "2   294.153727          7   212.795421           2   323.187802         10   \n",
      "3  1591.508482          3   407.629181           1   155.356802          3   \n",
      "4   558.423389          5   701.641769           2   620.660475          5   \n",
      "\n",
      "     NEAR_DIST  \n",
      "0    27.677967  \n",
      "1  1077.837387  \n",
      "2    97.315259  \n",
      "3     6.634046  \n",
      "4    31.915022  \n"
     ]
    }
   ],
   "source": [
    "print(X.head(5))"
   ]
  },
  {
   "cell_type": "markdown",
   "metadata": {},
   "source": [
    "### 3.2. Output features"
   ]
  },
  {
   "cell_type": "code",
   "execution_count": 7,
   "metadata": {},
   "outputs": [
    {
     "name": "stdout",
     "output_type": "stream",
     "text": [
      "0    1\n",
      "1    0\n",
      "2    1\n",
      "3    1\n",
      "4    0\n",
      "Name: tactic0_id, dtype: int64\n"
     ]
    }
   ],
   "source": [
    "print(y.head(5))"
   ]
  },
  {
   "cell_type": "markdown",
   "metadata": {},
   "source": [
    "## 4. Glimpse of the data"
   ]
  },
  {
   "cell_type": "markdown",
   "metadata": {},
   "source": [
    "### 4.1. Input features"
   ]
  },
  {
   "cell_type": "code",
   "execution_count": null,
   "metadata": {},
   "outputs": [],
   "source": []
  },
  {
   "cell_type": "markdown",
   "metadata": {},
   "source": [
    "### 4.2. Output variable (the Class label)"
   ]
  },
  {
   "cell_type": "code",
   "execution_count": null,
   "metadata": {},
   "outputs": [],
   "source": []
  },
  {
   "cell_type": "markdown",
   "metadata": {},
   "source": [
    "### 4.3. Assigning *input* and *output* variables\n",
    "Let's assign the 4 input variables to X and the output variable (class label) to Y"
   ]
  },
  {
   "cell_type": "code",
   "execution_count": null,
   "metadata": {},
   "outputs": [],
   "source": []
  },
  {
   "cell_type": "markdown",
   "metadata": {},
   "source": [
    "### 4.3. Let's examine the data dimension"
   ]
  },
  {
   "cell_type": "code",
   "execution_count": 8,
   "metadata": {},
   "outputs": [
    {
     "data": {
      "text/plain": [
       "(8000, 13)"
      ]
     },
     "execution_count": 8,
     "metadata": {},
     "output_type": "execute_result"
    }
   ],
   "source": [
    "X.shape"
   ]
  },
  {
   "cell_type": "code",
   "execution_count": 9,
   "metadata": {},
   "outputs": [
    {
     "data": {
      "text/plain": [
       "(8000,)"
      ]
     },
     "execution_count": 9,
     "metadata": {},
     "output_type": "execute_result"
    }
   ],
   "source": [
    "y.shape"
   ]
  },
  {
   "cell_type": "markdown",
   "metadata": {},
   "source": [
    "## 5. Build Classification Model using Random Forest"
   ]
  },
  {
   "cell_type": "code",
   "execution_count": 10,
   "metadata": {},
   "outputs": [],
   "source": [
    "clf = RandomForestClassifier()"
   ]
  },
  {
   "cell_type": "code",
   "execution_count": 11,
   "metadata": {},
   "outputs": [
    {
     "name": "stderr",
     "output_type": "stream",
     "text": [
      "/Users/kratung/anaconda3/envs/tfdeeplearning/lib/python3.5/site-packages/sklearn/ensemble/forest.py:248: FutureWarning: The default value of n_estimators will change from 10 in version 0.20 to 100 in 0.22.\n",
      "  \"10 in version 0.20 to 100 in 0.22.\", FutureWarning)\n"
     ]
    },
    {
     "data": {
      "text/plain": [
       "RandomForestClassifier(bootstrap=True, class_weight=None, criterion='gini',\n",
       "            max_depth=None, max_features='auto', max_leaf_nodes=None,\n",
       "            min_impurity_decrease=0.0, min_impurity_split=None,\n",
       "            min_samples_leaf=1, min_samples_split=2,\n",
       "            min_weight_fraction_leaf=0.0, n_estimators=10, n_jobs=None,\n",
       "            oob_score=False, random_state=None, verbose=0,\n",
       "            warm_start=False)"
      ]
     },
     "execution_count": 11,
     "metadata": {},
     "output_type": "execute_result"
    }
   ],
   "source": [
    "clf.fit(X, y)"
   ]
  },
  {
   "cell_type": "markdown",
   "metadata": {},
   "source": [
    "## 6. Feature Importance"
   ]
  },
  {
   "cell_type": "code",
   "execution_count": 12,
   "metadata": {},
   "outputs": [
    {
     "name": "stdout",
     "output_type": "stream",
     "text": [
      "[0.12650267 0.1262397  0.1290176  0.10961479 0.00713869 0.01069162\n",
      " 0.1107894  0.02177044 0.12344528 0.00797247 0.09829692 0.03576723\n",
      " 0.09275319]\n"
     ]
    }
   ],
   "source": [
    "print(clf.feature_importances_)"
   ]
  },
  {
   "cell_type": "markdown",
   "metadata": {},
   "source": [
    "## 7. Make Prediction"
   ]
  },
  {
   "cell_type": "code",
   "execution_count": null,
   "metadata": {},
   "outputs": [],
   "source": []
  },
  {
   "cell_type": "markdown",
   "metadata": {},
   "source": [
    "## 8. Data split (80/20 ratio)"
   ]
  },
  {
   "cell_type": "code",
   "execution_count": 13,
   "metadata": {},
   "outputs": [],
   "source": [
    "X_train, X_test, y_train, y_test = train_test_split(X, y, test_size = 0.2)"
   ]
  },
  {
   "cell_type": "code",
   "execution_count": 14,
   "metadata": {},
   "outputs": [
    {
     "data": {
      "text/plain": [
       "((6400, 13), (6400,))"
      ]
     },
     "execution_count": 14,
     "metadata": {},
     "output_type": "execute_result"
    }
   ],
   "source": [
    "X_train.shape, y_train.shape"
   ]
  },
  {
   "cell_type": "code",
   "execution_count": 15,
   "metadata": {},
   "outputs": [
    {
     "data": {
      "text/plain": [
       "((1600, 13), (1600,))"
      ]
     },
     "execution_count": 15,
     "metadata": {},
     "output_type": "execute_result"
    }
   ],
   "source": [
    "X_test.shape, y_test.shape"
   ]
  },
  {
   "cell_type": "markdown",
   "metadata": {},
   "source": [
    "## 9. Rebuild the Random Forest Model"
   ]
  },
  {
   "cell_type": "code",
   "execution_count": 16,
   "metadata": {},
   "outputs": [
    {
     "data": {
      "text/plain": [
       "RandomForestClassifier(bootstrap=True, class_weight=None, criterion='gini',\n",
       "            max_depth=None, max_features='auto', max_leaf_nodes=None,\n",
       "            min_impurity_decrease=0.0, min_impurity_split=None,\n",
       "            min_samples_leaf=1, min_samples_split=2,\n",
       "            min_weight_fraction_leaf=0.0, n_estimators=10, n_jobs=None,\n",
       "            oob_score=False, random_state=None, verbose=0,\n",
       "            warm_start=False)"
      ]
     },
     "execution_count": 16,
     "metadata": {},
     "output_type": "execute_result"
    }
   ],
   "source": [
    "clf.fit(X_train, y_train)"
   ]
  },
  {
   "cell_type": "markdown",
   "metadata": {},
   "source": [
    "### 9.1. Performs prediction on single sample from the data set"
   ]
  },
  {
   "cell_type": "code",
   "execution_count": null,
   "metadata": {},
   "outputs": [],
   "source": []
  },
  {
   "cell_type": "markdown",
   "metadata": {},
   "source": [
    "### 9.2. Performs prediction on the test set"
   ]
  },
  {
   "cell_type": "markdown",
   "metadata": {},
   "source": [
    "#### *Predicted class labels*"
   ]
  },
  {
   "cell_type": "code",
   "execution_count": 17,
   "metadata": {},
   "outputs": [
    {
     "name": "stdout",
     "output_type": "stream",
     "text": [
      "[1 0 1 ... 1 1 1]\n"
     ]
    }
   ],
   "source": [
    "print(clf.predict(X_test))"
   ]
  },
  {
   "cell_type": "markdown",
   "metadata": {},
   "source": [
    "#### *Actual class labels*"
   ]
  },
  {
   "cell_type": "markdown",
   "metadata": {},
   "source": [
    "print(y_test)"
   ]
  },
  {
   "cell_type": "markdown",
   "metadata": {},
   "source": [
    "## 10. Model Performance"
   ]
  },
  {
   "cell_type": "code",
   "execution_count": 18,
   "metadata": {},
   "outputs": [
    {
     "name": "stdout",
     "output_type": "stream",
     "text": [
      "0.618125\n"
     ]
    }
   ],
   "source": [
    "print(clf.score(X_test, y_test))"
   ]
  },
  {
   "cell_type": "code",
   "execution_count": null,
   "metadata": {},
   "outputs": [],
   "source": []
  }
 ],
 "metadata": {
  "kernelspec": {
   "display_name": "Python 3",
   "language": "python",
   "name": "python3"
  },
  "language_info": {
   "codemirror_mode": {
    "name": "ipython",
    "version": 3
   },
   "file_extension": ".py",
   "mimetype": "text/x-python",
   "name": "python",
   "nbconvert_exporter": "python",
   "pygments_lexer": "ipython3",
   "version": "3.5.6"
  }
 },
 "nbformat": 4,
 "nbformat_minor": 4
}
